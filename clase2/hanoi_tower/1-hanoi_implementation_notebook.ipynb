{
  "cells": [
    {
      "cell_type": "markdown",
      "metadata": {
        "id": "view-in-github",
        "colab_type": "text"
      },
      "source": [
        "<a href=\"https://colab.research.google.com/github/X57FI8W9S/intro_ia/blob/main/clase2/hanoi_tower/1-hanoi_implementation_notebook.ipynb\" target=\"_parent\"><img src=\"https://colab.research.google.com/assets/colab-badge.svg\" alt=\"Open In Colab\"/></a>"
      ]
    },
    {
      "cell_type": "code",
      "source": [
        "!git clone https://github.com/X57FI8W9S/intro_ia"
      ],
      "metadata": {
        "id": "-DYWiCk6MwZ1",
        "outputId": "7a7b6148-7935-40c3-b08f-8e9160d77863",
        "colab": {
          "base_uri": "https://localhost:8080/"
        }
      },
      "id": "-DYWiCk6MwZ1",
      "execution_count": 4,
      "outputs": [
        {
          "output_type": "stream",
          "name": "stdout",
          "text": [
            "Cloning into 'intro_ia'...\n",
            "remote: Enumerating objects: 1634, done.\u001b[K\n",
            "remote: Counting objects: 100% (358/358), done.\u001b[K\n",
            "remote: Compressing objects: 100% (209/209), done.\u001b[K\n",
            "remote: Total 1634 (delta 187), reused 188 (delta 149), pack-reused 1276 (from 2)\u001b[K\n",
            "Receiving objects: 100% (1634/1634), 455.75 MiB | 31.76 MiB/s, done.\n",
            "Resolving deltas: 100% (621/621), done.\n",
            "Updating files: 100% (155/155), done.\n"
          ]
        }
      ]
    },
    {
      "cell_type": "markdown",
      "id": "e9b0ad3fdc3fc830",
      "metadata": {
        "collapsed": false,
        "jupyter": {
          "outputs_hidden": false
        },
        "id": "e9b0ad3fdc3fc830"
      },
      "source": [
        "# Torre de Hanoi\n",
        "**Facundo A. Lucianna - Inteligencia Artificial - CEIA - FIUBA**\n",
        "\n",
        "El rompecabezas comienza con los discos apilados en una varilla en orden decreciente de tamaño, con el disco más pequeño en la parte superior, formando una especie de figura cónica.\n",
        "\n",
        "El objetivo del juego es mover toda la pila de discos a una de las otras varillas, cumpliendo con las siguientes reglas:\n",
        "\n",
        "1. Solo se puede mover un disco a la vez.\n",
        "2. Cada movimiento consiste en tomar el disco superior de una de las pilas y colocarlo sobre otra pila o sobre una varilla vacía.\n",
        "3. Ningún disco puede colocarse sobre uno que sea más pequeño.\n",
        "\n",
        "## Resolviendo este problema usando IA\n",
        "\n",
        "Este es un problema clásico ideal para aplicar métodos de búsqueda. Podemos construir un agente inteligente que resuelva el problema automáticamente.\n",
        "\n",
        "Este agente percibe cuántos discos hay y en qué orden se encuentran en cada varilla. Además, puede tomar cualquier disco que esté en la parte superior de una pila y moverlo a otra varilla, siempre que la jugada sea válida.\n",
        "\n",
        "### Definición del problema\n",
        "\n",
        "Para resolverlo, necesitamos definir correctamente el espacio de estados, el estado inicial, el estado objetivo y las reglas de transición.\n",
        "\n",
        "#### Espacio de estados:\n",
        "\n",
        "Para 5 discos, existen $3^5 = 243$ posibles configuraciones (ya que cada disco puede estar en una de las tres varillas).\n",
        "\n",
        "![estados_hanoi](https://github.com/X57FI8W9S/intro_ia/blob/main/clase2/hanoi_tower/img/state_hanoi1.png?raw=1)\n",
        "\n",
        "#### Estado inicial\n",
        "\n",
        "En nuestro caso, partimos con todos los discos apilados en la **varilla izquierda**, ordenados de mayor a menor de abajo hacia arriba.\n",
        "\n",
        "![estados_hanoi_initial](https://github.com/X57FI8W9S/intro_ia/blob/main/clase2/hanoi_tower/img/state_hanoi2.png?raw=1)\n",
        "\n",
        "#### Estado objetivo\n",
        "\n",
        "Para simplificar, definimos un único estado objetivo: todos los discos deben terminar ordenados de la misma forma en la **varilla derecha**.\n",
        "\n",
        "![estados_hanoi_goal](https://github.com/X57FI8W9S/intro_ia/blob/main/clase2/hanoi_tower/img/state_hanoi3.png?raw=1)\n",
        "\n",
        "----\n",
        "### Implementación\n",
        "\n",
        "Vamos a ver una implementación de las diferentes estructuras necesarias para resolver el problema de la Torre de Hanoi utilizando algoritmos de búsqueda, como vimos en el video de resolución de problemas. Para esto, nos basamos en el código del libro *Artificial Intelligence: A Modern Approach de Russell y Norvig*, disponible en GitHub:\n",
        "\n",
        "- 📚 [Repositorio AIMA](https://github.com/aimacode)\n",
        "- 🐍 [Versión en Python](https://github.com/aimacode/aima-python)\n",
        "\n",
        "> 🧠 **Nota 1**: Si querés desarrollar una versión en otro lenguaje, en el repositorio hay implementaciones en varios lenguajes.\n",
        "\n",
        "> ⚠️ **Nota 2**: Para profundizar en la implementación y cómo está estructurado el código, recomendamos revisar el archivo `hanoi_states.py` ubicado en `lib`, el cual está ampliamente comentado.\n",
        "\n",
        "### Representación del estado\n",
        "\n",
        "Cualquier estado del problema puede representarse mediante la clase `StatesHanoi`:"
      ]
    },
    {
      "cell_type": "code",
      "source": [
        "import sys\n",
        "sys.path.append('./intro_ia/clase2/hanoi_tower')"
      ],
      "metadata": {
        "id": "EuaoQVuWNw7Y"
      },
      "id": "EuaoQVuWNw7Y",
      "execution_count": 8,
      "outputs": []
    },
    {
      "cell_type": "code",
      "execution_count": 9,
      "id": "46618ef8-06c6-4154-a10f-185aa577d087",
      "metadata": {
        "id": "46618ef8-06c6-4154-a10f-185aa577d087"
      },
      "outputs": [],
      "source": [
        "from aima_libs.hanoi_states import StatesHanoi"
      ]
    },
    {
      "cell_type": "markdown",
      "id": "c758ea0e-da11-4d18-beef-40cdacdd3977",
      "metadata": {
        "id": "c758ea0e-da11-4d18-beef-40cdacdd3977"
      },
      "source": [
        "Para representar la ubicación de los discos, usamos tres listas (una por varilla), y asignamos a cada disco un número del 1 al 5. Por ejemplo, si queremos representar el siguiente estado:\n",
        "\n",
        "![estados_hanoi_goal](https://github.com/X57FI8W9S/intro_ia/blob/main/clase2/hanoi_tower/img/state_hanoi0.png?raw=1)"
      ]
    },
    {
      "cell_type": "code",
      "execution_count": 10,
      "id": "a5b6369a-adc9-4499-ab5a-e3260ffe7da6",
      "metadata": {
        "id": "a5b6369a-adc9-4499-ab5a-e3260ffe7da6"
      },
      "outputs": [],
      "source": [
        "varilla_izquierda = []\n",
        "varilla_medio = [5, 3, 1]\n",
        "varilla_derecha = [4, 2]"
      ]
    },
    {
      "cell_type": "code",
      "execution_count": 11,
      "id": "8874207f-f10f-4450-8154-b11311e3c588",
      "metadata": {
        "id": "8874207f-f10f-4450-8154-b11311e3c588"
      },
      "outputs": [],
      "source": [
        "state = StatesHanoi(varilla_izquierda, varilla_medio, varilla_derecha, max_disks=5)"
      ]
    },
    {
      "cell_type": "markdown",
      "id": "3ec52830-ba05-4693-864b-4ab5df8227f5",
      "metadata": {
        "id": "3ec52830-ba05-4693-864b-4ab5df8227f5"
      },
      "source": [
        "Podemos imprimir el estado directamente:"
      ]
    },
    {
      "cell_type": "code",
      "execution_count": 12,
      "id": "3fd91d5f-099b-4cd7-91ef-87af92eb9b78",
      "metadata": {
        "id": "3fd91d5f-099b-4cd7-91ef-87af92eb9b78",
        "outputId": "6690420e-3bcc-434f-caa7-04af1525b7d1",
        "colab": {
          "base_uri": "https://localhost:8080/"
        }
      },
      "outputs": [
        {
          "output_type": "stream",
          "name": "stdout",
          "text": [
            "HanoiState:  | 5 3 1 | 4 2\n"
          ]
        }
      ],
      "source": [
        "print(state)"
      ]
    },
    {
      "cell_type": "markdown",
      "id": "8443721a-903b-4f11-8d53-321a39dbd624",
      "metadata": {
        "id": "8443721a-903b-4f11-8d53-321a39dbd624"
      },
      "source": [
        "#### Métodos disponibles\n",
        "\n",
        "Obtener el disco superior de una varilla:"
      ]
    },
    {
      "cell_type": "code",
      "execution_count": 13,
      "id": "81ce6afe-db63-404a-b10a-983037251f4b",
      "metadata": {
        "id": "81ce6afe-db63-404a-b10a-983037251f4b",
        "outputId": "afaf152a-98c6-45b6-db91-0946c1294d03",
        "colab": {
          "base_uri": "https://localhost:8080/"
        }
      },
      "outputs": [
        {
          "output_type": "stream",
          "name": "stdout",
          "text": [
            "El ultimo disco de la varilla del centro es 1\n"
          ]
        }
      ],
      "source": [
        "disk = state.get_last_disk_rod(number_rod=1)\n",
        "print(f\"El ultimo disco de la varilla del centro es {disk}\")"
      ]
    },
    {
      "cell_type": "markdown",
      "id": "59565213",
      "metadata": {
        "id": "59565213"
      },
      "source": [
        "Verificar si es válido colocar un disco en una varilla:"
      ]
    },
    {
      "cell_type": "code",
      "execution_count": 14,
      "id": "67cf2cd6-6bfc-4424-bf2a-605e344533ff",
      "metadata": {
        "id": "67cf2cd6-6bfc-4424-bf2a-605e344533ff",
        "outputId": "50a9e01a-e6cc-47bc-a2b7-422ea18c9af0",
        "colab": {
          "base_uri": "https://localhost:8080/"
        }
      },
      "outputs": [
        {
          "output_type": "stream",
          "name": "stdout",
          "text": [
            "Podemos poner el disco 1 en la varilla derecha?\n",
            "Si, es posible poner el disco 1 en la varilla de derecha\n"
          ]
        }
      ],
      "source": [
        "disk = 1\n",
        "print(\"Podemos poner el disco 1 en la varilla derecha?\")\n",
        "if state.check_valid_disk_in_rod(number_rod=2, disk=disk):\n",
        "    print(\"Si, es posible poner el disco 1 en la varilla de derecha\")"
      ]
    },
    {
      "cell_type": "markdown",
      "id": "a2db8019",
      "metadata": {
        "id": "a2db8019"
      },
      "source": [
        "Aplicar un movimiento válido y modificar el estado:"
      ]
    },
    {
      "cell_type": "code",
      "execution_count": 15,
      "id": "6551a84d-6fe5-4a1a-898a-50c480253de5",
      "metadata": {
        "id": "6551a84d-6fe5-4a1a-898a-50c480253de5",
        "outputId": "24ad6a54-631d-4ff7-dcad-ba8449a97473",
        "colab": {
          "base_uri": "https://localhost:8080/"
        }
      },
      "outputs": [
        {
          "output_type": "stream",
          "name": "stdout",
          "text": [
            "El nuevo estado es: HanoiState:  | 5 3 | 4 2 1\n"
          ]
        }
      ],
      "source": [
        "state.put_disk_in_rod(number_rod=2, disk=disk)\n",
        "print(f\"El nuevo estado es: {state}\")"
      ]
    },
    {
      "cell_type": "markdown",
      "id": "5671f9ef-aa68-47f9-8d13-f1d917bfec23",
      "metadata": {
        "id": "5671f9ef-aa68-47f9-8d13-f1d917bfec23"
      },
      "source": [
        "Este movimiento genera el siguiente estado:\n",
        "\n",
        "![estados_hanoi_goal](https://github.com/X57FI8W9S/intro_ia/blob/main/clase2/hanoi_tower/img/state_hanoi4.png?raw=1)"
      ]
    },
    {
      "cell_type": "markdown",
      "id": "4482a155-c600-472a-baf6-a0bbe810e678",
      "metadata": {
        "id": "4482a155-c600-472a-baf6-a0bbe810e678"
      },
      "source": [
        "#### Detalles de la clase `StatesHanoi`\n",
        "\n",
        "**Atributos**:\n",
        "* `rods`: Lista de listas que contiene los discos en cada varilla.\n",
        "* `number_of_disks`: Cantidad total de discos (se puede usar con cualquier número).\n",
        "* `number_of_pegs`: Número de varillas (en este caso, siempre 3).\n",
        "* `accumulated_cost`: Costo acumulado del camino hasta el estado actual (útil para algoritmos como A*).\n",
        "\n",
        "**Métodos:**\n",
        "* `accumulate_cost()`: Suma un valor al costo acumulado.\n",
        "* `get_state()`: Devuelve la representación en listas del estado.\n",
        "* `get_state_dict()`: Devuelve el estado en formato de diccionario.\n",
        "* `get_accumulated_cost()`: Devuelve el costo acumulado.\n",
        "* `check_valid_disk_in_rod()`: Verifica si es válido colocar un disco en cierta varilla.\n",
        "* `get_last_disk_rod()`: Devuelve el último disco (el que está arriba) de una varilla.\n",
        "* `put_disk_in_rod()`: Aplica un movimiento colocando el disco en la varilla.\n",
        "\n",
        "**Operaciones adicionales:**\n",
        "\n",
        "La clase también permite realizar operaciones útiles directamente en Python:\n",
        "* Comparar estados: `estado1 == estado2`.\n",
        "* Comparar costos: `estado1 > estado2` (si el costo acumulado de `estado1` es mayor)\n",
        "* Representación en texto: al hacer `print(estado)` se imprime el estado de forma legible.\n",
        "* Hashing: permite usar los estados como claves en sets o diccionarios: `hash(estado)`\n",
        "\n",
        "---\n",
        "### Acciones\n",
        "\n",
        "Además de definir los estados, también debemos contemplar las acciones que permiten pasar de un estado a otro. En este caso, mover un disco de una varilla a otra. Para eso utilizamos la clase `ActionHanoi`:"
      ]
    },
    {
      "cell_type": "code",
      "execution_count": 18,
      "id": "8fee743d-ac0a-4996-819e-08a620549302",
      "metadata": {
        "id": "8fee743d-ac0a-4996-819e-08a620549302"
      },
      "outputs": [],
      "source": [
        "from aima_libs.hanoi_states import ActionHanoi"
      ]
    },
    {
      "cell_type": "markdown",
      "id": "4c00b46c-816f-4455-9fa6-0b7f873291e3",
      "metadata": {
        "id": "4c00b46c-816f-4455-9fa6-0b7f873291e3"
      },
      "source": [
        "Veamos cómo aplicar una acción que transforma este estado:\n",
        "\n",
        "![estados_hanoi_goal](https://github.com/X57FI8W9S/intro_ia/blob/main/clase2/hanoi_tower/img/state_hanoi0.png?raw=1)\n",
        "\n",
        "En este otro:\n",
        "\n",
        "![estados_hanoi_goal](https://github.com/X57FI8W9S/intro_ia/blob/main/clase2/hanoi_tower/img/state_hanoi4.png?raw=1)\n",
        "\n",
        "Es decir, queremos mover el disco 1 desde la **varilla del medio** hacia la **varilla derecha**."
      ]
    },
    {
      "cell_type": "code",
      "execution_count": 16,
      "id": "16a664a2-2dd8-4c57-b6bc-08527a8d35d9",
      "metadata": {
        "id": "16a664a2-2dd8-4c57-b6bc-08527a8d35d9"
      },
      "outputs": [],
      "source": [
        "varilla_izquierda = []\n",
        "varilla_medio = [5, 3, 1]\n",
        "varilla_derecha = [4, 2]\n",
        "state = StatesHanoi(varilla_izquierda, varilla_medio, varilla_derecha, max_disks=5)"
      ]
    },
    {
      "cell_type": "markdown",
      "id": "8a87b060-88d8-4fcc-b907-d7019d907e6b",
      "metadata": {
        "id": "8a87b060-88d8-4fcc-b907-d7019d907e6b"
      },
      "source": [
        "Primero creamos la acción. En este punto, la acción aún no ha sido ejecutada:"
      ]
    },
    {
      "cell_type": "code",
      "execution_count": 19,
      "id": "52619179-9c0e-4c11-a13f-ed3df27ac723",
      "metadata": {
        "id": "52619179-9c0e-4c11-a13f-ed3df27ac723",
        "outputId": "3ee2585a-0310-4659-dd63-25a1c5724f24",
        "colab": {
          "base_uri": "https://localhost:8080/"
        }
      },
      "outputs": [
        {
          "output_type": "stream",
          "name": "stdout",
          "text": [
            "Move disk 1 from 2 to 3\n"
          ]
        }
      ],
      "source": [
        "action_example = ActionHanoi(disk=1, rod_input=1, rod_out=2)\n",
        "print(action_example)"
      ]
    },
    {
      "cell_type": "markdown",
      "id": "de82b838-bd1b-48d9-95e4-ecd5dc4eaeaf",
      "metadata": {
        "id": "de82b838-bd1b-48d9-95e4-ecd5dc4eaeaf"
      },
      "source": [
        "Ahora sí, aplicamos la acción al estado `state`. Esto genera un nuevo estado:"
      ]
    },
    {
      "cell_type": "code",
      "execution_count": 20,
      "id": "13383df4-8fcb-4b7c-93af-4fa23b40f1a4",
      "metadata": {
        "id": "13383df4-8fcb-4b7c-93af-4fa23b40f1a4",
        "outputId": "1099c377-2eb7-40f9-c581-7458d1ccb499",
        "colab": {
          "base_uri": "https://localhost:8080/"
        }
      },
      "outputs": [
        {
          "output_type": "stream",
          "name": "stdout",
          "text": [
            "HanoiState:  | 5 3 | 4 2 1\n"
          ]
        }
      ],
      "source": [
        "new_state = action_example.execute(state_hanoi=state)\n",
        "\n",
        "print(new_state)"
      ]
    },
    {
      "cell_type": "markdown",
      "id": "04c19fe5-bff1-4fba-bc51-42dc25209f5b",
      "metadata": {
        "id": "04c19fe5-bff1-4fba-bc51-42dc25209f5b"
      },
      "source": [
        "Notamos que el costo acumulado empieza a cobrar sentido: *mover un disco tiene un costo igual a 1*, por lo que el nuevo estado reflejará ese costo:"
      ]
    },
    {
      "cell_type": "code",
      "execution_count": 21,
      "id": "dbae31c6-69b8-4404-8f4c-98a9f370f7fc",
      "metadata": {
        "id": "dbae31c6-69b8-4404-8f4c-98a9f370f7fc",
        "outputId": "c399d7aa-200d-4c78-bb06-6d56aa94268f",
        "colab": {
          "base_uri": "https://localhost:8080/"
        }
      },
      "outputs": [
        {
          "output_type": "stream",
          "name": "stdout",
          "text": [
            "El costo acumulado del nuevo estado es 1.0\n"
          ]
        }
      ],
      "source": [
        "print(f\"El costo acumulado del nuevo estado es {new_state.accumulated_cost}\")"
      ]
    },
    {
      "cell_type": "markdown",
      "id": "db971d52-60f0-4e8d-a5d3-69aec116810a",
      "metadata": {
        "id": "db971d52-60f0-4e8d-a5d3-69aec116810a"
      },
      "source": [
        "#### Detalles de la clase `ActionHanoi`\n",
        "\n",
        "**Atributos:**\n",
        "* `disk`: Disco que se desea mover.\n",
        "* `rod_input`: Varilla desde la cual se retira el disco.\n",
        "* `rod_out`: Varilla a la cual se mueve el disco.\n",
        "* `action`: Cadena de caracteres descriptiva de la acción.\n",
        "* `action_dict`: Representación de la acción en formato diccionario.\n",
        "* `cost`: Costo asociado a la acción (1 por defecto, o 0 si la acción no implica un movimiento real).\n",
        "\n",
        "**Métodos:**\n",
        "* `execute(state_hanoi)`: Aplica la acción sobre un estado dado. Devuelve un nuevo estado con el disco movido y el costo acumulado actualizado.\n",
        "\n",
        "**Operaciones adicionales implementadas:**\n",
        "\n",
        "La clase `ActionHanoi` también permite operar naturalmente dentro del entorno de Python:\n",
        "\n",
        "* Cuenta con una representación en string (`__str__`), por lo que al hacer `print(action)` se obtiene una descripción clara de la acción.\n",
        "* Permite convertir fácilmente la acción en un diccionario (`action_dict`), lo cual es útil al momento de exportar la solución, por ejemplo, al simulador visual de PyGame."
      ]
    },
    {
      "cell_type": "markdown",
      "id": "75d9808a-769c-4ee6-87ee-94433bcde0e0",
      "metadata": {
        "id": "75d9808a-769c-4ee6-87ee-94433bcde0e0"
      },
      "source": [
        "---\n",
        "### Problema de Hanoi\n",
        "\n",
        "Por último, podemos implementar el problema completo, que contemple tanto el estado inicial como el estado final, y la posibilidad de realizar movimientos de un estado a otro. De esta manera, podremos movernos a través del grafo de estados. Nuestra implementación se llama `ProblemHanoi`."
      ]
    },
    {
      "cell_type": "code",
      "execution_count": 22,
      "id": "7ccb55e3-5691-4e3f-966b-c9992097acc1",
      "metadata": {
        "id": "7ccb55e3-5691-4e3f-966b-c9992097acc1"
      },
      "outputs": [],
      "source": [
        "from aima_libs.hanoi_states import ProblemHanoi"
      ]
    },
    {
      "cell_type": "markdown",
      "id": "5e0db65b-9253-4a95-9d1c-c106a31e28e4",
      "metadata": {
        "id": "5e0db65b-9253-4a95-9d1c-c106a31e28e4"
      },
      "source": [
        "En este problema, definimos primero el estado inicial desde donde comenzamos:\n",
        "\n",
        "![estados_hanoi_initial](https://github.com/X57FI8W9S/intro_ia/blob/main/clase2/hanoi_tower/img/state_hanoi2.png?raw=1)"
      ]
    },
    {
      "cell_type": "code",
      "execution_count": 23,
      "id": "cb9b835b-83f3-4199-b960-10c9827833db",
      "metadata": {
        "id": "cb9b835b-83f3-4199-b960-10c9827833db"
      },
      "outputs": [],
      "source": [
        "varilla_izquierda = [5, 4, 3, 2, 1]\n",
        "varilla_medio = []\n",
        "varilla_derecha = []\n",
        "\n",
        "initial_state = StatesHanoi(varilla_izquierda, varilla_medio, varilla_derecha, max_disks=5)"
      ]
    },
    {
      "cell_type": "markdown",
      "id": "f9959802-ee90-4e23-b371-7e3a45f64528",
      "metadata": {
        "id": "f9959802-ee90-4e23-b371-7e3a45f64528"
      },
      "source": [
        "Y el estado objetivo al que queremos llegar:\n",
        "\n",
        "![estados_hanoi_goal](https://github.com/X57FI8W9S/intro_ia/blob/main/clase2/hanoi_tower/img/state_hanoi3.png?raw=1)"
      ]
    },
    {
      "cell_type": "code",
      "execution_count": 24,
      "id": "e314edba-1a18-4d22-8c1f-593e5eb7e5f4",
      "metadata": {
        "id": "e314edba-1a18-4d22-8c1f-593e5eb7e5f4"
      },
      "outputs": [],
      "source": [
        "varilla_izquierda = []\n",
        "varilla_medio = []\n",
        "varilla_derecha = [5, 4, 3, 2, 1]\n",
        "goal_state = StatesHanoi(varilla_izquierda, varilla_medio, varilla_derecha, max_disks=5)"
      ]
    },
    {
      "cell_type": "markdown",
      "id": "10d3dddf-007f-4fcb-9137-fef9c5df5131",
      "metadata": {
        "id": "10d3dddf-007f-4fcb-9137-fef9c5df5131"
      },
      "source": [
        "Con estos estados, definimos el problema de la Torre de Hanoi:"
      ]
    },
    {
      "cell_type": "code",
      "execution_count": 25,
      "id": "288544c7-cbea-4971-b982-d1b1e8cdb8bb",
      "metadata": {
        "id": "288544c7-cbea-4971-b982-d1b1e8cdb8bb"
      },
      "outputs": [],
      "source": [
        "problem = ProblemHanoi(initial=initial_state, goal=goal_state)"
      ]
    },
    {
      "cell_type": "markdown",
      "id": "adc875e0-2859-4f4f-9507-552d1b4bf5d5",
      "metadata": {
        "id": "adc875e0-2859-4f4f-9507-552d1b4bf5d5"
      },
      "source": [
        "#### Detalles de la clase `ProblemHanoi`\n",
        "\n",
        "**Atributos:**\n",
        "Esta clase tiene dos atributos principales:\n",
        "* `initial`: Es el estado inicial.\n",
        "* `goal`: Es el estado objetivo.\n",
        "\n",
        "**Métodos:**\n",
        "* `actions()`: Devuelve todas las acciones posibles que se pueden ejecutar desde un estado dado.\n",
        "* `result()`: Calcula el nuevo estado después de aplicar una acción.\n",
        "* `path_cost()`: Calcula el costo del camino de un estado a otro.\n",
        "* `goal_test()`: Verifica si un estado particular es el estado objetivo.\n",
        "\n",
        "#### Ejemplo de uso\n",
        "\n",
        "Veamos cómo podemos obtener todas las acciones que se pueden aplicar desde un estado dado:"
      ]
    },
    {
      "cell_type": "code",
      "execution_count": 26,
      "id": "b8899e88-6fa9-4f0b-9098-59ff71c2f31f",
      "metadata": {
        "id": "b8899e88-6fa9-4f0b-9098-59ff71c2f31f"
      },
      "outputs": [],
      "source": [
        "varilla_izquierda = []\n",
        "varilla_medio = [5, 3, 1]\n",
        "varilla_derecha = [4, 2]\n",
        "state = StatesHanoi(varilla_izquierda, varilla_medio, varilla_derecha, max_disks=5)"
      ]
    },
    {
      "cell_type": "code",
      "execution_count": 27,
      "id": "dcfb4f5c-62b8-4880-a3fd-dc42443879df",
      "metadata": {
        "id": "dcfb4f5c-62b8-4880-a3fd-dc42443879df",
        "outputId": "b6293aa1-5211-420a-b6de-bbe018695332",
        "colab": {
          "base_uri": "https://localhost:8080/"
        }
      },
      "outputs": [
        {
          "output_type": "stream",
          "name": "stdout",
          "text": [
            "Move disk 1 from 2 to 1\n",
            "Move disk 1 from 2 to 3\n",
            "Move disk 2 from 3 to 1\n"
          ]
        }
      ],
      "source": [
        "lista_acciones = problem.actions(state)\n",
        "for action in lista_acciones:\n",
        "    print(action)"
      ]
    },
    {
      "cell_type": "markdown",
      "id": "d50bc97d-2461-4f0b-adaa-9fccd0db7653",
      "metadata": {
        "id": "d50bc97d-2461-4f0b-adaa-9fccd0db7653"
      },
      "source": [
        "Ahora, aplicamos una de las acciones que nos devuelve la lista:"
      ]
    },
    {
      "cell_type": "code",
      "execution_count": 28,
      "id": "578e97cf-7365-44d9-b040-ba996ad662f6",
      "metadata": {
        "id": "578e97cf-7365-44d9-b040-ba996ad662f6",
        "outputId": "c826f982-3fca-4a1b-bcf3-b612e4d1537c",
        "colab": {
          "base_uri": "https://localhost:8080/"
        }
      },
      "outputs": [
        {
          "output_type": "stream",
          "name": "stdout",
          "text": [
            "HanoiState:  | 5 3 | 4 2 1\n"
          ]
        }
      ],
      "source": [
        "# Aplicamos la acción de mover el disco 1 de la varilla 2 a la varilla 3\n",
        "new_state = problem.result(state=state, action=lista_acciones[1])\n",
        "\n",
        "print(new_state)"
      ]
    },
    {
      "cell_type": "markdown",
      "id": "0edbf74c-a64f-4c3b-aa99-0c8e706c7b8d",
      "metadata": {
        "id": "0edbf74c-a64f-4c3b-aa99-0c8e706c7b8d"
      },
      "source": [
        "Esto nos lleva de este estado:\n",
        "\n",
        "![estados_hanoi_goal](https://github.com/X57FI8W9S/intro_ia/blob/main/clase2/hanoi_tower/img/state_hanoi0.png?raw=1)\n",
        "\n",
        "A este estado:\n",
        "\n",
        "![estados_hanoi_goal](https://github.com/X57FI8W9S/intro_ia/blob/main/clase2/hanoi_tower/img/state_hanoi4.png?raw=1)\n",
        "\n",
        "Pero ahora, dentro del contexto del **Problema**."
      ]
    },
    {
      "cell_type": "markdown",
      "id": "51e8d7f6-53eb-4fbd-8935-d1163daa0d2f",
      "metadata": {
        "id": "51e8d7f6-53eb-4fbd-8935-d1163daa0d2f"
      },
      "source": [
        "Acumulemos el costo que venimos acumulando hasta el nuevo estado:"
      ]
    },
    {
      "cell_type": "code",
      "execution_count": 29,
      "id": "7127dada-e271-41d9-9464-28dc0aed62c4",
      "metadata": {
        "id": "7127dada-e271-41d9-9464-28dc0aed62c4",
        "outputId": "2ce9b7dc-6605-473a-a1fc-fefa9ef22a72",
        "colab": {
          "base_uri": "https://localhost:8080/"
        }
      },
      "outputs": [
        {
          "output_type": "stream",
          "name": "stdout",
          "text": [
            "El costo acumulado según el problema del nuevo estado es 1.0\n"
          ]
        }
      ],
      "source": [
        "print(f\"El costo acumulado según el problema del nuevo estado es {problem.path_cost(c=1, state1=state, action=lista_acciones[1], state2=new_state)}\")"
      ]
    },
    {
      "cell_type": "markdown",
      "id": "48ec250e-63c7-4052-a8fc-f8c0112119ba",
      "metadata": {
        "id": "48ec250e-63c7-4052-a8fc-f8c0112119ba"
      },
      "source": [
        "Aplicamos otra acción al nuevo estado:"
      ]
    },
    {
      "cell_type": "code",
      "execution_count": 30,
      "id": "b5540c40-c251-4bf7-a933-e3bb3e96a94d",
      "metadata": {
        "id": "b5540c40-c251-4bf7-a933-e3bb3e96a94d",
        "outputId": "0196f51c-a7da-4257-b0fe-d3957cc4e8ea",
        "colab": {
          "base_uri": "https://localhost:8080/"
        }
      },
      "outputs": [
        {
          "output_type": "stream",
          "name": "stdout",
          "text": [
            "Move disk 3 from 2 to 1\n",
            "Move disk 1 from 3 to 1\n",
            "Move disk 1 from 3 to 2\n"
          ]
        }
      ],
      "source": [
        "lista_acciones = problem.actions(new_state)\n",
        "for action in lista_acciones:\n",
        "    print(action)"
      ]
    },
    {
      "cell_type": "code",
      "execution_count": 31,
      "id": "e58c389d-dab8-4560-b18c-8cbcd949705b",
      "metadata": {
        "id": "e58c389d-dab8-4560-b18c-8cbcd949705b",
        "outputId": "08dd795f-60fb-404d-d100-f2f586a7541a",
        "colab": {
          "base_uri": "https://localhost:8080/"
        }
      },
      "outputs": [
        {
          "output_type": "stream",
          "name": "stdout",
          "text": [
            "HanoiState: 3 | 5 | 4 2 1\n"
          ]
        }
      ],
      "source": [
        "# Aplicamos la acción de mover el disco 3 de la varilla 2 a la varilla 1\n",
        "new_state_2 = problem.result(state=new_state, action=lista_acciones[0])\n",
        "\n",
        "print(new_state_2)"
      ]
    },
    {
      "cell_type": "markdown",
      "id": "bda793c4-bf24-43db-921f-ef3ea2cd8088",
      "metadata": {
        "id": "bda793c4-bf24-43db-921f-ef3ea2cd8088"
      },
      "source": [
        "Ahora, el costo acumulado es 2, ya que hemos pasado por dos estados para llegar a este nuevo estado:"
      ]
    },
    {
      "cell_type": "code",
      "execution_count": 32,
      "id": "f539c9c1-0293-4ebf-900d-82306841c7af",
      "metadata": {
        "id": "f539c9c1-0293-4ebf-900d-82306841c7af",
        "outputId": "5d217f36-55ca-4cfa-dd46-c7faf77fbed8",
        "colab": {
          "base_uri": "https://localhost:8080/"
        }
      },
      "outputs": [
        {
          "output_type": "stream",
          "name": "stdout",
          "text": [
            "El costo acumulado según el problema del nuevo estado es 2.0\n"
          ]
        }
      ],
      "source": [
        "print(f\"El costo acumulado según el problema del nuevo estado es {problem.path_cost(c=1, state1=new_state, action=lista_acciones[0], state2=new_state_2)}\")"
      ]
    },
    {
      "cell_type": "markdown",
      "id": "b7d2926a-692b-4975-956c-00c006834a28",
      "metadata": {
        "id": "b7d2926a-692b-4975-956c-00c006834a28"
      },
      "source": [
        "**Verificando si un estado es la solución:**\n",
        "\n",
        "Finalmente, podemos verificar si un estado dado es la solución al problema:"
      ]
    },
    {
      "cell_type": "code",
      "execution_count": 33,
      "id": "f4580aeb-a759-45d5-aa8f-728dfc5031c6",
      "metadata": {
        "id": "f4580aeb-a759-45d5-aa8f-728dfc5031c6",
        "outputId": "dacbb1bb-b282-4cc9-f5bf-e6b4e99ce041",
        "colab": {
          "base_uri": "https://localhost:8080/"
        }
      },
      "outputs": [
        {
          "output_type": "stream",
          "name": "stdout",
          "text": [
            "HanoiState: 3 | 5 | 4 2 1 no es la solución final HanoiState:  |  | 5 4 3 2 1\n"
          ]
        }
      ],
      "source": [
        "if not problem.goal_test(state=new_state_2):\n",
        "    print(f\"{new_state_2} no es la solución final {goal_state}\")"
      ]
    },
    {
      "cell_type": "markdown",
      "id": "bb38c8c2-fb17-4c92-9906-b5e7c5a02a1f",
      "metadata": {
        "id": "bb38c8c2-fb17-4c92-9906-b5e7c5a02a1f"
      },
      "source": [
        "---\n",
        "### Grafo de Estados de Hanoi\n",
        "\n",
        "Con esta implementación, ya podemos generar el grafo de estados de la Torre de Hanoi, que nos muestra todos los posibles estados alcanzables desde el estado inicial hasta el objetivo.\n",
        "\n",
        "![grafo_de_hanoi](https://github.com/X57FI8W9S/intro_ia/blob/main/clase2/hanoi_tower/img/state_hanoi_graph.png?raw=1)"
      ]
    }
  ],
  "metadata": {
    "kernelspec": {
      "display_name": "ia_env",
      "language": "python",
      "name": "python3"
    },
    "language_info": {
      "codemirror_mode": {
        "name": "ipython",
        "version": 3
      },
      "file_extension": ".py",
      "mimetype": "text/x-python",
      "name": "python",
      "nbconvert_exporter": "python",
      "pygments_lexer": "ipython3",
      "version": "3.11.11"
    },
    "colab": {
      "provenance": [],
      "include_colab_link": true
    }
  },
  "nbformat": 4,
  "nbformat_minor": 5
}